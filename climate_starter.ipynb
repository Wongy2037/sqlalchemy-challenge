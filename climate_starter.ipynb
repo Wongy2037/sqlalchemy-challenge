{
 "cells": [
  {
   "cell_type": "code",
   "execution_count": 103,
   "metadata": {},
   "outputs": [],
   "source": [
    "%matplotlib inline\n",
    "from matplotlib import style\n",
    "style.use('fivethirtyeight')\n",
    "import matplotlib.pyplot as plt"
   ]
  },
  {
   "cell_type": "code",
   "execution_count": 104,
   "metadata": {},
   "outputs": [],
   "source": [
    "import numpy as np\n",
    "import pandas as pd\n",
    "import datetime as dt"
   ]
  },
  {
   "cell_type": "markdown",
   "metadata": {},
   "source": [
    "# Reflect Tables into SQLAlchemy ORM"
   ]
  },
  {
   "cell_type": "code",
   "execution_count": 105,
   "metadata": {},
   "outputs": [],
   "source": [
    "# Python SQL toolkit and Object Relational Mapper\n",
    "import sqlalchemy\n",
    "from sqlalchemy.ext.automap import automap_base\n",
    "from sqlalchemy.orm import Session\n",
    "from sqlalchemy import create_engine, func, inspect"
   ]
  },
  {
   "cell_type": "code",
   "execution_count": 106,
   "metadata": {},
   "outputs": [],
   "source": [
    "# create engine to hawaii.sqlite\n",
    "engine = create_engine(\"sqlite:///Resources/hawaii.sqlite\")"
   ]
  },
  {
   "cell_type": "code",
   "execution_count": 107,
   "metadata": {},
   "outputs": [],
   "source": [
    "# reflect an existing database into a new model\n",
    "Base = automap_base()\n",
    "# reflect the tables\n",
    "Base.prepare(engine, reflect= True)\n"
   ]
  },
  {
   "cell_type": "code",
   "execution_count": 108,
   "metadata": {},
   "outputs": [
    {
     "data": {
      "text/plain": [
       "['measurement', 'station']"
      ]
     },
     "execution_count": 108,
     "metadata": {},
     "output_type": "execute_result"
    }
   ],
   "source": [
    "# View all of the classes that automap found\n",
    "Base.classes.keys()"
   ]
  },
  {
   "cell_type": "code",
   "execution_count": 109,
   "metadata": {},
   "outputs": [],
   "source": [
    "# Save references to each table\n",
    "Measurement = Base.classes.measurement\n",
    "Station = Base.classes.station"
   ]
  },
  {
   "cell_type": "code",
   "execution_count": 110,
   "metadata": {},
   "outputs": [],
   "source": [
    "# Create our session (link) from Python to the DB\n",
    "session = Session(engine)"
   ]
  },
  {
   "cell_type": "markdown",
   "metadata": {},
   "source": [
    "# Exploratory Precipitation Analysis"
   ]
  },
  {
   "cell_type": "code",
   "execution_count": 111,
   "metadata": {},
   "outputs": [
    {
     "name": "stdout",
     "output_type": "stream",
     "text": [
      "id INTEGER\n",
      "station TEXT\n",
      "date TEXT\n",
      "prcp FLOAT\n",
      "tobs FLOAT\n"
     ]
    }
   ],
   "source": [
    "# Find the most recent date in the data set. \n",
    "inspector = inspect(engine)\n",
    "#imported inspector to find column names for each table to more accurately query \n",
    "measurement_columns = inspector.get_columns(\"measurement\")\n",
    "for c in measurement_columns:\n",
    "    print(c[\"name\"], c[\"type\"])"
   ]
  },
  {
   "cell_type": "code",
   "execution_count": 112,
   "metadata": {},
   "outputs": [
    {
     "data": {
      "image/png": "[encoded data removed]",
      "text/plain": [
       "<Figure size 432x288 with 1 Axes>"
      ]
     },
     "metadata": {},
     "output_type": "display_data"
    }
   ],
   "source": [
    "# Design a query to retrieve the last 12 months of precipitation data and plot the results. \n",
    "# Starting from the most recent data point in the database. \n",
    "\n",
    "#variable start_date created into object from finding most_recent_date in cell above from Measurement class\n",
    "\n",
    "values = session.query(Measurement.date, Measurement.prcp).\\\n",
    "    filter(Measurement.date > '2016-08-22').\\\n",
    "    order_by(Measurement.date).all()\n",
    "\n",
    "# Check to see if correct values were generated via for loop and printing values\n",
    "# for value in values:\n",
    "#     print(values)\n",
    "\n",
    "# Calculate the date one year from the last date in data set.\n",
    "    # value one year from the start date is 2016-08-23, by filtering for values greater than 2016-08-22 we include all days in that range\n",
    "\n",
    "\n",
    "# Perform a query to retrieve the data and precipitation scores\n",
    "    # query done for dates and precipitation and saved in the values variable above\n",
    "\n",
    "# Save the query results as a Pandas DataFrame and set the index to the date column\n",
    "\n",
    "values_df = pd.DataFrame(values)\n",
    "values_final_df = values_df.set_index(\"date\")\n",
    "values_final_df\n",
    "\n",
    "# Sort the dataframe by date\n",
    "    # date already sorted in ascending order since we queried the dates and precip and sorted when creating var \"values\"\n",
    "\n",
    "# Use Pandas Plotting with Matplotlib to plot the data\n",
    "values_final_df.plot()\n",
    "plt.ylim(0,7)\n",
    "plt.xticks(rotation=70)\n",
    "plt.xlabel('Date')\n",
    "plt.ylabel('Inches')\n",
    "plt.tight_layout()\n",
    "plt.show()"
   ]
  },
  {
   "cell_type": "code",
   "execution_count": 113,
   "metadata": {},
   "outputs": [
    {
     "data": {
      "text/html": [
       "<div>\n",
       "<style scoped>\n",
       "    .dataframe tbody tr th:only-of-type {\n",
       "        vertical-align: middle;\n",
       "    }\n",
       "\n",
       "    .dataframe tbody tr th {\n",
       "        vertical-align: top;\n",
       "    }\n",
       "\n",
       "    .dataframe thead th {\n",
       "        text-align: right;\n",
       "    }\n",
       "</style>\n",
       "<table border=\"1\" class=\"dataframe\">\n",
       "  <thead>\n",
       "    <tr style=\"text-align: right;\">\n",
       "      <th></th>\n",
       "      <th>prcp</th>\n",
       "    </tr>\n",
       "  </thead>\n",
       "  <tbody>\n",
       "    <tr>\n",
       "      <th>count</th>\n",
       "      <td>2021.000000</td>\n",
       "    </tr>\n",
       "    <tr>\n",
       "      <th>mean</th>\n",
       "      <td>0.177279</td>\n",
       "    </tr>\n",
       "    <tr>\n",
       "      <th>std</th>\n",
       "      <td>0.461190</td>\n",
       "    </tr>\n",
       "    <tr>\n",
       "      <th>min</th>\n",
       "      <td>0.000000</td>\n",
       "    </tr>\n",
       "    <tr>\n",
       "      <th>25%</th>\n",
       "      <td>0.000000</td>\n",
       "    </tr>\n",
       "    <tr>\n",
       "      <th>50%</th>\n",
       "      <td>0.020000</td>\n",
       "    </tr>\n",
       "    <tr>\n",
       "      <th>75%</th>\n",
       "      <td>0.130000</td>\n",
       "    </tr>\n",
       "    <tr>\n",
       "      <th>max</th>\n",
       "      <td>6.700000</td>\n",
       "    </tr>\n",
       "  </tbody>\n",
       "</table>\n",
       "</div>"
      ],
      "text/plain": [
       "              prcp\n",
       "count  2021.000000\n",
       "mean      0.177279\n",
       "std       0.461190\n",
       "min       0.000000\n",
       "25%       0.000000\n",
       "50%       0.020000\n",
       "75%       0.130000\n",
       "max       6.700000"
      ]
     },
     "execution_count": 113,
     "metadata": {},
     "output_type": "execute_result"
    }
   ],
   "source": [
    "# Use Pandas to calcualte the summary statistics for the precipitation data \n",
    "\n",
    "values_final_df.describe()"
   ]
  },
  {
   "cell_type": "markdown",
   "metadata": {},
   "source": [
    "# Exploratory Station Analysis"
   ]
  },
  {
   "cell_type": "code",
   "execution_count": 114,
   "metadata": {},
   "outputs": [
    {
     "data": {
      "text/plain": [
       "9"
      ]
     },
     "execution_count": 114,
     "metadata": {},
     "output_type": "execute_result"
    }
   ],
   "source": [
    "# Design a query to calculate the total number stations in the dataset \n",
    "\n",
    "total_number_stations= session.query(Station.station).count()\n",
    "total_number_stations"
   ]
  },
  {
   "cell_type": "code",
   "execution_count": 115,
   "metadata": {},
   "outputs": [
    {
     "name": "stdout",
     "output_type": "stream",
     "text": [
      "[('USC00519281', 2772), ('USC00519397', 2724), ('USC00513117', 2709), ('USC00519523', 2669), ('USC00516128', 2612), ('USC00514830', 2202), ('USC00511918', 1979), ('USC00517948', 1372), ('USC00518838', 511)]\n"
     ]
    }
   ],
   "source": [
    "# Design a query to find the most active stations (i.e. what stations have the most rows?)\n",
    "# List the stations and the counts in descending order.\n",
    "\n",
    "active_stations = session.query(Measurement.station,func.count(Measurement.station)).\\\n",
    "    order_by(func.count(Measurement.station).desc()).\\\n",
    "    group_by(Measurement.station).all() \n",
    "\n",
    "print(active_stations) "
   ]
  },
  {
   "cell_type": "code",
   "execution_count": 116,
   "metadata": {},
   "outputs": [
    {
     "name": "stdout",
     "output_type": "stream",
     "text": [
      "[(54.0,)]\n",
      "[(85.0,)]\n",
      "[(71.66378066378067,)]\n"
     ]
    }
   ],
   "source": [
    "\n",
    "# Using the most active station id from the previous query, calculate the lowest, highest, and average temperature. \n",
    "# Most active station would be the first in a descending list of measurement station count - Station: USC00519281\n",
    "\n",
    "most_active_station = session.query(Measurement.station,func.count(Measurement.station)).\\\n",
    "    order_by(func.count(Measurement.station).desc()).\\\n",
    "    group_by(Measurement.station).first()\n",
    "\n",
    "# Check to see if most active station was selected:\n",
    "# print(most_active_station) \n",
    "\n",
    "# Isolate station number from this list of station numbers and count of stations\n",
    "most_active_station_number = most_active_station[0]\n",
    "most_active_station_number \n",
    "\n",
    "# Lowest temperature for most active station\n",
    "lowest_temperature = session.query(func.min(Measurement.tobs)).\\\n",
    "  filter(Measurement.station==most_active_station_number).all()\n",
    "print(lowest_temperature) \n",
    "\n",
    "# print(f\"The lowest temperature for station {lowest_temperature}\")\n",
    "\n",
    "# Highest temperature for most active station\n",
    "highest_temperature = session.query(func.max(Measurement.tobs)).\\\n",
    "  filter(Measurement.station==most_active_station_number).all()\n",
    "\n",
    "print(highest_temperature)\n",
    "\n",
    "# Avg temperature for most active station\n",
    "average_temperature = session.query(func.avg(Measurement.tobs)).\\\n",
    "    filter(Measurement.station==most_active_station_number).all()\n",
    "\n",
    "print(average_temperature)"
   ]
  },
  {
   "cell_type": "code",
   "execution_count": 118,
   "metadata": {},
   "outputs": [
    {
     "data": {
      "text/plain": [
       "(0.0, 70.0)"
      ]
     },
     "execution_count": 118,
     "metadata": {},
     "output_type": "execute_result"
    },
    {
     "data": {
      "image/png": "[encoded data removed]",
      "text/plain": [
       "<Figure size 432x288 with 1 Axes>"
      ]
     },
     "metadata": {},
     "output_type": "display_data"
    }
   ],
   "source": [
    "# Using the most active station id\n",
    "# Query the last 12 months of temperature observation data for this station and plot the results as a histogram\n",
    "\n",
    "# Find most recent date for Station: USC00519281 in the Measurement table\n",
    "\n",
    "most_recent_date_station = session.query(Measurement.date,Measurement.tobs).\\\n",
    "    filter(Measurement.station == most_active_station_number).\\\n",
    "    order_by(Measurement.date.desc()).first()\n",
    "\n",
    "# Found that 2017-08-18' is the most recent date for temp obeserved for most active station: USC00519281, tobs: 79\n",
    "\n",
    "# Create query saying to find dates 12 months before 2017-08-08 (thus > 2016-08-08), for our most active station\n",
    "twelve_month_values = session.query(Measurement.date,Measurement.tobs).\\\n",
    "    filter(Measurement.station == most_active_station_number).\\\n",
    "    filter(Measurement.date > '2016-08-17').all()\n",
    "\n",
    "# Check to see if values appear correctly\n",
    "# for value in twelve_month_values:\n",
    "#     print(value)\n",
    "\n",
    "# Plot\n",
    "# Create series with just tobs from this 12 month period \n",
    "twelve_month_tobs_values_df = pd.DataFrame(twelve_month_values)[\"tobs\"]\n",
    "twelve_month_tobs_values_df \n",
    "\n",
    "hist = twelve_month_tobs_values_df.hist(bins=12) \n",
    "plt.xlabel('Temperature (F)')\n",
    "plt.ylabel('Frequency')\n",
    "plt.xticks(fontsize=12)\n",
    "plt.yticks(fontsize=12)\n",
    "plt.ylim(0,70)"
   ]
  },
  {
   "cell_type": "markdown",
   "metadata": {},
   "source": [
    "# Close session"
   ]
  },
  {
   "cell_type": "code",
   "execution_count": null,
   "metadata": {},
   "outputs": [],
   "source": [
    "# Close Session\n",
    "session.close()"
   ]
  },
  {
   "cell_type": "code",
   "execution_count": null,
   "metadata": {},
   "outputs": [],
   "source": []
  }
 ],
 "metadata": {
  "anaconda-cloud": {},
  "kernel_info": {
   "name": "python3"
  },
  "kernelspec": {
   "display_name": "Python 3 (ipykernel)",
   "language": "python",
   "name": "python3"
  },
  "language_info": {
   "codemirror_mode": {
    "name": "ipython",
    "version": 3
   },
   "file_extension": ".py",
   "mimetype": "text/x-python",
   "name": "python",
   "nbconvert_exporter": "python",
   "pygments_lexer": "ipython3",
   "version": "3.9.12"
  },
  "nteract": {
   "version": "0.12.3"
  },
  "varInspector": {
   "cols": {
    "lenName": 16,
    "lenType": 16,
    "lenVar": 40
   },
   "kernels_config": {
    "python": {
     "delete_cmd_postfix": "",
     "delete_cmd_prefix": "del ",
     "library": "var_list.py",
     "varRefreshCmd": "print(var_dic_list())"
    },
    "r": {
     "delete_cmd_postfix": ") ",
     "delete_cmd_prefix": "rm(",
     "library": "var_list.r",
     "varRefreshCmd": "cat(var_dic_list()) "
    }
   },
   "types_to_exclude": [
    "module",
    "function",
    "builtin_function_or_method",
    "instance",
    "_Feature"
   ],
   "window_display": false
  }
 },
 "nbformat": 4,
 "nbformat_minor": 2
}
